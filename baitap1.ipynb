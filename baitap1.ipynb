{
 "cells": [
  {
   "attachments": {},
   "cell_type": "markdown",
   "metadata": {},
   "source": [
    "# Bài tập 1 - Ôn tập Python\n",
    "\n",
    "*(Thống kê máy tính và ứng dụng - ĐTTX Kì 2 2023-2024)*\n",
    "\n",
    "Tài liệu tham khảo: [Bí kíp luyện Python](https://github.com/vqhBook/python)"
   ]
  },
  {
   "cell_type": "markdown",
   "metadata": {},
   "source": [
    "MSSV: 22880112\n",
    "\n",
    "Họ và tên: Trương Nhất"
   ]
  },
  {
   "cell_type": "markdown",
   "metadata": {},
   "source": [
    "## Câu 1 (1 điểm)\n",
    "\n",
    "(Tham khảo: Bài 1-4)"
   ]
  },
  {
   "cell_type": "markdown",
   "metadata": {},
   "source": [
    "**Bài tập 3.8** *(0.5 điểm)*"
   ]
  },
  {
   "cell_type": "code",
   "execution_count": 2,
   "metadata": {},
   "outputs": [
    {
     "name": "stdout",
     "output_type": "stream",
     "text": [
      "1.000000000\n",
      "2.3328\n",
      "2.71960\n"
     ]
    }
   ],
   "source": [
    "from decimal import Decimal\n",
    "print( Decimal(\"0.125\")**3 * Decimal(\"8\")**3 )\n",
    "print( Decimal(\"0.6\")**5 / Decimal(\"0.2\")*6 )\n",
    "print( Decimal(\"-2.5\") * Decimal(\"0.38\") * Decimal(\"0.4\") - Decimal(\"0.123\") * Decimal(\"3.15\") * Decimal(\"-8\") )"
   ]
  },
  {
   "cell_type": "markdown",
   "metadata": {},
   "source": [
    "**Bài tập 4.7** *(0.5 điểm)*"
   ]
  },
  {
   "cell_type": "code",
   "execution_count": 18,
   "metadata": {},
   "outputs": [
    {
     "name": "stdout",
     "output_type": "stream",
     "text": [
      "<class 'str'>\n"
     ]
    },
    {
     "ename": "TypeError",
     "evalue": "'int' object is not callable",
     "output_type": "error",
     "traceback": [
      "\u001b[1;31m---------------------------------------------------------------------------\u001b[0m",
      "\u001b[1;31mTypeError\u001b[0m                                 Traceback (most recent call last)",
      "Cell \u001b[1;32mIn[18], line 7\u001b[0m\n\u001b[0;32m      3\u001b[0m \u001b[38;5;66;03m# while not(0 < int(num) < 1000):\u001b[39;00m\n\u001b[0;32m      4\u001b[0m \u001b[38;5;66;03m#     print(\"Số không hợp lệ, nhập lại: \")\u001b[39;00m\n\u001b[0;32m      5\u001b[0m \u001b[38;5;66;03m#     num = input(\"Nhập số có không quá 3 chữ số: \")\u001b[39;00m\n\u001b[0;32m      6\u001b[0m x \u001b[38;5;241m=\u001b[39m \u001b[38;5;241m0\u001b[39m\n\u001b[1;32m----> 7\u001b[0m x \u001b[38;5;241m=\u001b[39m \u001b[38;5;28;43msum\u001b[39;49m\u001b[43m(\u001b[49m\u001b[38;5;28;43mint\u001b[39;49m\u001b[43m(\u001b[49m\u001b[43mi\u001b[49m\u001b[43m,\u001b[49m\u001b[43mbase\u001b[49m\u001b[43m \u001b[49m\u001b[38;5;241;43m=\u001b[39;49m\u001b[43m \u001b[49m\u001b[38;5;241;43m10\u001b[39;49m\u001b[43m)\u001b[49m\u001b[43m \u001b[49m\u001b[38;5;28;43;01mfor\u001b[39;49;00m\u001b[43m \u001b[49m\u001b[43mi\u001b[49m\u001b[43m \u001b[49m\u001b[38;5;129;43;01min\u001b[39;49;00m\u001b[43m \u001b[49m\u001b[43mnum\u001b[49m\u001b[43m)\u001b[49m\n\u001b[0;32m      9\u001b[0m \u001b[38;5;28mprint\u001b[39m(x)\n",
      "\u001b[1;31mTypeError\u001b[0m: 'int' object is not callable"
     ]
    }
   ],
   "source": [
    "num = input(\"Nhập số có không quá 3 chữ số: \")\n",
    "# while not(0 < int(num) < 1000):\n",
    "#     print(\"Số không hợp lệ, nhập lại: \")\n",
    "#     num = input(\"Nhập số có không quá 3 chữ số: \")\n",
    "x = 0\n",
    "x = sum(int(i,base = 10) for i in num)\n",
    "\n",
    "print(x)\n"
   ]
  },
  {
   "cell_type": "markdown",
   "metadata": {},
   "source": [
    "## Câu 2 (2.5 điểm)\n",
    "\n",
    "(Tham khảo: Bài 6-8)"
   ]
  },
  {
   "cell_type": "markdown",
   "metadata": {},
   "source": [
    "**Bài tập 6.6** *(1 điểm)*"
   ]
  },
  {
   "cell_type": "code",
   "execution_count": null,
   "metadata": {},
   "outputs": [],
   "source": []
  },
  {
   "cell_type": "markdown",
   "metadata": {},
   "source": [
    "**Bài tập 7.4** *(0.5 điểm)*"
   ]
  },
  {
   "cell_type": "code",
   "execution_count": null,
   "metadata": {},
   "outputs": [],
   "source": []
  },
  {
   "cell_type": "markdown",
   "metadata": {},
   "source": [
    "**Bài tập 8.3** *(1 điểm)*"
   ]
  },
  {
   "cell_type": "code",
   "execution_count": null,
   "metadata": {},
   "outputs": [],
   "source": []
  },
  {
   "cell_type": "markdown",
   "metadata": {},
   "source": [
    "## Câu 3 (3 điểm)\n",
    "\n",
    "(Tham khảo: Bài 11)"
   ]
  },
  {
   "cell_type": "markdown",
   "metadata": {},
   "source": [
    "**Bài tập 11.5** *(2.5 điểm)*"
   ]
  },
  {
   "cell_type": "code",
   "execution_count": null,
   "metadata": {},
   "outputs": [],
   "source": []
  },
  {
   "cell_type": "markdown",
   "metadata": {},
   "source": [
    "**Bài tập** *(0.5 điểm)*\n",
    "\n",
    "Viết hàm `pretty_str` nhận vào một số nguyên không âm và trả về chuỗi biểu diễn số đó với dấu phẩy phân cách mỗi cụm 3 kí số. \n",
    "\n",
    "*Ví dụ:* `pretty_str(123567890)` trả về chuỗi `\"1,234,567,890\"`. \n",
    "\n",
    "(*Lưu ý*: có thể tận dụng các hàm đã viết ở trên.)"
   ]
  },
  {
   "cell_type": "code",
   "execution_count": null,
   "metadata": {},
   "outputs": [],
   "source": []
  },
  {
   "cell_type": "markdown",
   "metadata": {},
   "source": [
    "## Câu 4 (3.5 điểm)\n",
    "\n",
    "(Tham khảo: Bài 12)"
   ]
  },
  {
   "cell_type": "markdown",
   "metadata": {},
   "source": [
    "**Bài tập 12.6** (1 điểm)"
   ]
  },
  {
   "cell_type": "code",
   "execution_count": null,
   "metadata": {},
   "outputs": [],
   "source": []
  },
  {
   "cell_type": "markdown",
   "metadata": {},
   "source": [
    "**Bài tập 12.10** *(2.5 điểm)*"
   ]
  },
  {
   "cell_type": "code",
   "execution_count": null,
   "metadata": {},
   "outputs": [],
   "source": []
  }
 ],
 "metadata": {
  "kernelspec": {
   "display_name": "Python 3 (ipykernel)",
   "language": "python",
   "name": "python3"
  },
  "language_info": {
   "codemirror_mode": {
    "name": "ipython",
    "version": 3
   },
   "file_extension": ".py",
   "mimetype": "text/x-python",
   "name": "python",
   "nbconvert_exporter": "python",
   "pygments_lexer": "ipython3",
   "version": "3.11.4"
  },
  "vscode": {
   "interpreter": {
    "hash": "5179d32cf6ec497baf3f8a3ef987cc77c5d2dc691fdde20a56316522f61a7323"
   }
  }
 },
 "nbformat": 4,
 "nbformat_minor": 4
}
