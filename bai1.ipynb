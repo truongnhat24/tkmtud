{
 "cells": [
  {
   "attachments": {},
   "cell_type": "markdown",
   "metadata": {},
   "source": [
    "# Python (1)\n",
    "\n",
    "(Ôn tập Python cơ bản)"
   ]
  },
  {
   "cell_type": "code",
   "execution_count": 21,
   "metadata": {},
   "outputs": [
    {
     "name": "stdout",
     "output_type": "stream",
     "text": [
      "Hello Worldnjhu!\n"
     ]
    }
   ],
   "source": [
    "# ghi chú trong Python bắt đầu bằng dấu #\n",
    "print(\"Hello Worldnjhu!\")"
   ]
  },
  {
   "cell_type": "code",
   "execution_count": null,
   "metadata": {},
   "outputs": [
    {
     "name": "stdout",
     "output_type": "stream",
     "text": [
      "Tôi yêu bạn!\n",
      "I ♥ you!\n",
      "我爱你\n",
      "ฉันรักคุณ\n"
     ]
    }
   ],
   "source": [
    "# Python hỗ trợ Unicode rất tốt\n",
    "print(\"Tôi yêu bạn!\", \"I \\u2665 you!\", \"我爱你\", \"ฉันรักคุณ\", sep=\"\\n\")"
   ]
  },
  {
   "attachments": {},
   "cell_type": "markdown",
   "metadata": {},
   "source": [
    "## Python - Calculator siêu cấp"
   ]
  },
  {
   "attachments": {},
   "cell_type": "markdown",
   "metadata": {},
   "source": [
    "### Tính toán đơn giản"
   ]
  },
  {
   "cell_type": "code",
   "execution_count": 22,
   "metadata": {},
   "outputs": [
    {
     "data": {
      "text/plain": [
       "1"
      ]
     },
     "execution_count": 22,
     "metadata": {},
     "output_type": "execute_result"
    }
   ],
   "source": [
    "# các phép toán cơ bản: cộng, trừ, nhân, chia\n",
    "# // là chia lấy phần nguyên, % là chia lấy phần dư\n",
    "1 + 2 - 3 * 4 // 5 % 6"
   ]
  },
  {
   "cell_type": "code",
   "execution_count": null,
   "metadata": {},
   "outputs": [
    {
     "data": {
      "text/plain": [
       "0.5"
      ]
     },
     "execution_count": 4,
     "metadata": {},
     "output_type": "execute_result"
    }
   ],
   "source": [
    "# / là phép chia thực (được số thực)\n",
    "1 / 2"
   ]
  },
  {
   "cell_type": "code",
   "execution_count": null,
   "metadata": {},
   "outputs": [
    {
     "data": {
      "text/plain": [
       "-0.75"
      ]
     },
     "execution_count": 5,
     "metadata": {},
     "output_type": "execute_result"
    }
   ],
   "source": [
    "# Python dùng dấu chấm thập phân (chứ không phải dấy phẩy)\n",
    "0.5 * -(0.5 + 1)"
   ]
  },
  {
   "cell_type": "code",
   "execution_count": null,
   "metadata": {},
   "outputs": [
    {
     "data": {
      "text/plain": [
       "18446744073709551616"
      ]
     },
     "execution_count": 6,
     "metadata": {},
     "output_type": "execute_result"
    }
   ],
   "source": [
    "# ** là phép mũ\n",
    "# số nguyên trong Python có độ lớn tùy ý\n",
    "2**64"
   ]
  },
  {
   "attachments": {},
   "cell_type": "markdown",
   "metadata": {},
   "source": [
    "Tính $\\sqrt 2 = 2^{\\frac{1}{2}}$"
   ]
  },
  {
   "cell_type": "code",
   "execution_count": null,
   "metadata": {},
   "outputs": [
    {
     "data": {
      "text/plain": [
       "1.4142135623730951"
      ]
     },
     "execution_count": 7,
     "metadata": {},
     "output_type": "execute_result"
    }
   ],
   "source": [
    "2 ** 0.5"
   ]
  },
  {
   "cell_type": "code",
   "execution_count": null,
   "metadata": {},
   "outputs": [
    {
     "name": "stdout",
     "output_type": "stream",
     "text": [
      "1.0\n",
      "1.4142135623730951\n",
      "262144 262144\n",
      "4096 4096\n"
     ]
    }
   ],
   "source": [
    "# lưu ý về độ ưu tiên và tính kết hợp của các toán tử\n",
    "print(2 ** 1/2)             # là (2 ** 1)/2 = 2/2\n",
    "print(2 ** (1/2))           # là 2 ** 0.5\n",
    "print(4**3**2, 4**9)        # là 4**(3**2) = 4**9\n",
    "print((4**3)**2, 4**(3*2))"
   ]
  },
  {
   "attachments": {},
   "cell_type": "markdown",
   "metadata": {},
   "source": [
    "### Ghi nhớ với biến"
   ]
  },
  {
   "attachments": {},
   "cell_type": "markdown",
   "metadata": {},
   "source": [
    "$(2 - \\sqrt 3)(2 + \\sqrt 3) = 2^2 - (\\sqrt 3)^2 = 4 - 3 = 1$"
   ]
  },
  {
   "cell_type": "code",
   "execution_count": null,
   "metadata": {},
   "outputs": [
    {
     "data": {
      "text/plain": [
       "1.0000000000000004"
      ]
     },
     "execution_count": 9,
     "metadata": {},
     "output_type": "execute_result"
    }
   ],
   "source": [
    "a = 2 - 3**0.5\n",
    "b = 2 + 3**0.5\n",
    "a * b"
   ]
  },
  {
   "cell_type": "code",
   "execution_count": null,
   "metadata": {},
   "outputs": [
    {
     "name": "stdout",
     "output_type": "stream",
     "text": [
      "1.000\n"
     ]
    }
   ],
   "source": [
    "# lưu ý: số thực trong Python là số gần đúng\n",
    "print(f\"{a*b:.3f}\")"
   ]
  },
  {
   "cell_type": "code",
   "execution_count": null,
   "metadata": {},
   "outputs": [
    {
     "name": "stdout",
     "output_type": "stream",
     "text": [
      "1.414213562373095 1.4142135623730951\n"
     ]
    }
   ],
   "source": [
    "# Tính căn\n",
    "x = 2\n",
    "\n",
    "y = x\n",
    "y = y/2 + x/(2*y)\n",
    "y = y/2 + x/(2*y)\n",
    "y = y/2 + x/(2*y)\n",
    "y = y/2 + x/(2*y)\n",
    "y = y/2 + x/(2*y)\n",
    "\n",
    "print(y, x**0.5)"
   ]
  },
  {
   "attachments": {},
   "cell_type": "markdown",
   "metadata": {},
   "source": [
    "**Bài tập 2.4**"
   ]
  },
  {
   "cell_type": "code",
   "execution_count": 2,
   "metadata": {},
   "outputs": [
    {
     "data": {
      "text/plain": [
       "0"
      ]
     },
     "execution_count": 2,
     "metadata": {},
     "output_type": "execute_result"
    }
   ],
   "source": [
    "# TODO\n",
    "(55**(10+1) - 55**10)%54"
   ]
  },
  {
   "attachments": {},
   "cell_type": "markdown",
   "metadata": {},
   "source": [
    "## Tính toán nâng cao"
   ]
  },
  {
   "attachments": {},
   "cell_type": "markdown",
   "metadata": {},
   "source": [
    "Dùng hàm dựng sẵn (built-in function)"
   ]
  },
  {
   "cell_type": "code",
   "execution_count": null,
   "metadata": {},
   "outputs": [
    {
     "name": "stdout",
     "output_type": "stream",
     "text": [
      "1.4142135623730951\n",
      "2.0000000000000004\n",
      "False\n",
      "4.440892098500626e-16\n",
      "True\n",
      "True\n"
     ]
    }
   ],
   "source": [
    "a = 2**0.5\n",
    "print(a)\n",
    "print(a ** 2)\n",
    "print(a ** 2 == 2)\n",
    "print(a**2 - 2)\n",
    "print(abs(a**2 - 2) < 10**-9)   # gọi hàm abs(x) để tính |x|\n",
    "print(round(a**2, 9) == 2)      # gọi hàm round(x, d) để làm tròn x đến chữ số d sau dấu thập phân"
   ]
  },
  {
   "attachments": {},
   "cell_type": "markdown",
   "metadata": {},
   "source": [
    "Dùng thư viện (module, library)"
   ]
  },
  {
   "cell_type": "code",
   "execution_count": null,
   "metadata": {},
   "outputs": [],
   "source": [
    "import math     # nạp module math hỗ trợ nhiều tính toán nâng cao"
   ]
  },
  {
   "cell_type": "code",
   "execution_count": null,
   "metadata": {},
   "outputs": [
    {
     "data": {
      "text/plain": [
       "True"
      ]
     },
     "execution_count": 15,
     "metadata": {},
     "output_type": "execute_result"
    }
   ],
   "source": [
    "math.isclose(a**2, 2)   # hàm isclose của module math giúp kiểm tra 2 số có rất gần nhau "
   ]
  },
  {
   "attachments": {},
   "cell_type": "markdown",
   "metadata": {},
   "source": [
    "Tính $n! = 1\\times 2 \\times 3 \\times \\ldots \\times (n - 1)\\times n$"
   ]
  },
  {
   "cell_type": "code",
   "execution_count": 16,
   "metadata": {},
   "outputs": [
    {
     "ename": "ValueError",
     "evalue": "invalid literal for int() with base 10: ''",
     "output_type": "error",
     "traceback": [
      "\u001b[1;31m---------------------------------------------------------------------------\u001b[0m",
      "\u001b[1;31mValueError\u001b[0m                                Traceback (most recent call last)",
      "Cell \u001b[1;32mIn[16], line 1\u001b[0m\n\u001b[1;32m----> 1\u001b[0m n \u001b[38;5;241m=\u001b[39m \u001b[38;5;28;43mint\u001b[39;49m\u001b[43m(\u001b[49m\u001b[38;5;28;43minput\u001b[39;49m\u001b[43m(\u001b[49m\u001b[38;5;124;43m\"\u001b[39;49m\u001b[38;5;124;43mNhập số nguyên cần tính giai thừa\u001b[39;49m\u001b[38;5;124;43m\"\u001b[39;49m\u001b[43m)\u001b[49m\u001b[43m)\u001b[49m\n\u001b[0;32m      2\u001b[0m f \u001b[38;5;241m=\u001b[39m math\u001b[38;5;241m.\u001b[39mfactorial(n)\n\u001b[0;32m      3\u001b[0m \u001b[38;5;28mprint\u001b[39m(\u001b[38;5;124mf\u001b[39m\u001b[38;5;124m\"\u001b[39m\u001b[38;5;132;01m{\u001b[39;00mn\u001b[38;5;132;01m}\u001b[39;00m\u001b[38;5;124m! = \u001b[39m\u001b[38;5;132;01m{\u001b[39;00mf\u001b[38;5;132;01m}\u001b[39;00m\u001b[38;5;124m\"\u001b[39m)\n",
      "\u001b[1;31mValueError\u001b[0m: invalid literal for int() with base 10: ''"
     ]
    }
   ],
   "source": [
    "n = int(input(\"Nhập số nguyên cần tính giai thừa\"))\n",
    "f = math.factorial(n)\n",
    "print(f\"{n}! = {f}\")"
   ]
  },
  {
   "attachments": {},
   "cell_type": "markdown",
   "metadata": {},
   "source": [
    "**Bài tập 3.3**"
   ]
  },
  {
   "cell_type": "code",
   "execution_count": 10,
   "metadata": {},
   "outputs": [
    {
     "name": "stdout",
     "output_type": "stream",
     "text": [
      "20.0 9.0 15.0 True\n"
     ]
    }
   ],
   "source": [
    "# TODO:\n",
    "import math\n",
    "\n",
    "a = math.sqrt(16**2 + 12**2)\n",
    "y = (12 * a) // 16\n",
    "x = (12 * y) // a\n",
    "b = 12* (16+x)\n",
    "c = y*a\n",
    "\n",
    "print(a, x, y, b == c)"
   ]
  },
  {
   "attachments": {},
   "cell_type": "markdown",
   "metadata": {},
   "source": [
    "## Python - ngôn ngữ lập trình"
   ]
  },
  {
   "cell_type": "code",
   "execution_count": null,
   "metadata": {},
   "outputs": [
    {
     "name": "stdout",
     "output_type": "stream",
     "text": [
      "Chào Hoàng!\n",
      "Bạn 123 tuổi.\n"
     ]
    }
   ],
   "source": [
    "tên = input(\"Bạn tên gì? \")\n",
    "print(\"Chào \" + tên + \"!\")\n",
    "\n",
    "năm_sinh = int(input(\"Bạn sinh năm bao nhiêu? \"))\n",
    "import time\n",
    "tuổi = time.localtime().tm_year - năm_sinh\n",
    "print(f\"Bạn {tuổi} tuổi.\")"
   ]
  },
  {
   "attachments": {},
   "cell_type": "markdown",
   "metadata": {},
   "source": [
    "**Bài tập 4.4**"
   ]
  },
  {
   "cell_type": "code",
   "execution_count": 12,
   "metadata": {},
   "outputs": [
    {
     "name": "stdout",
     "output_type": "stream",
     "text": [
      "Happy birth day to you\n",
      "Happy birth day to you\n",
      "Happy birth, happy birth, happy birth day to you\n"
     ]
    }
   ],
   "source": [
    "# TODO:\n",
    "import time\n",
    "tên = input(\"Bạn tên gì? \")\n",
    "if tên == \"\":\n",
    "  tên = \"you\"\n",
    "\n",
    "print(f\"Happy birth day to {tên}\")\n",
    "print(f\"Happy birth day to {tên}\")\n",
    "print(f\"Happy birth, happy birth, happy birth day to {tên}\")"
   ]
  },
  {
   "attachments": {},
   "cell_type": "markdown",
   "metadata": {},
   "source": [
    "### Cấu trúc chọn"
   ]
  },
  {
   "cell_type": "code",
   "execution_count": null,
   "metadata": {},
   "outputs": [
    {
     "name": "stdout",
     "output_type": "stream",
     "text": [
      "123456 là số dương\n"
     ]
    }
   ],
   "source": [
    "x = int(input(\"Nhập một số nguyên: \"))\n",
    "\n",
    "if x < 0:\n",
    "    print(f\"{x} là số âm\")\n",
    "elif x > 0:\n",
    "    print(f\"{x} là số dương\")\n",
    "else:   # x == 0\n",
    "    print(f\"{x} không âm, không dương\")\n"
   ]
  },
  {
   "attachments": {},
   "cell_type": "markdown",
   "metadata": {},
   "source": [
    "**Bài tập 6.1**"
   ]
  },
  {
   "cell_type": "code",
   "execution_count": null,
   "metadata": {},
   "outputs": [],
   "source": [
    "# TODO:\n"
   ]
  },
  {
   "attachments": {},
   "cell_type": "markdown",
   "metadata": {},
   "source": [
    "### Cấu trúc lặp"
   ]
  },
  {
   "cell_type": "code",
   "execution_count": null,
   "metadata": {},
   "outputs": [
    {
     "name": "stdout",
     "output_type": "stream",
     "text": [
      "❀❀❀❀❀❀❀❀❀❀❀❀❀❀❀❀❀❀❀❀"
     ]
    }
   ],
   "source": [
    "for i in range(20):\n",
    "    print(\"\\u2740\", end=\"\")"
   ]
  },
  {
   "cell_type": "code",
   "execution_count": null,
   "metadata": {},
   "outputs": [
    {
     "name": "stdout",
     "output_type": "stream",
     "text": [
      "0 1 2 3 4 5 6 7 8 9 10 11 12 13 14 15 16 17 18 19 "
     ]
    }
   ],
   "source": [
    "for i in range(20):\n",
    "    print(i, end=\" \")"
   ]
  },
  {
   "cell_type": "code",
   "execution_count": null,
   "metadata": {},
   "outputs": [
    {
     "name": "stdout",
     "output_type": "stream",
     "text": [
      "❀\n",
      "❀❀\n",
      "❀❀❀\n",
      "❀❀❀❀\n",
      "❀❀❀❀❀\n",
      "❀❀❀❀❀❀\n",
      "❀❀❀❀❀❀❀\n",
      "❀❀❀❀❀❀❀❀\n",
      "❀❀❀❀❀❀❀❀❀\n",
      "❀❀❀❀❀❀❀❀❀❀\n"
     ]
    }
   ],
   "source": [
    "for i in range(1, 11):\n",
    "    for j in range(i):\n",
    "        print(\"\\u2740\", end=\"\")\n",
    "    print()"
   ]
  },
  {
   "cell_type": "code",
   "execution_count": null,
   "metadata": {},
   "outputs": [
    {
     "name": "stdout",
     "output_type": "stream",
     "text": [
      "Các kí số của 123456 là: 1 2 3 4 5 6 "
     ]
    }
   ],
   "source": [
    "n = input(\"Nhập một số nguyên không âm: \")\n",
    "print(f\"Các kí số của {n} là: \", end=\"\")\n",
    "for d in n:\n",
    "    print(d, end=\" \")"
   ]
  },
  {
   "cell_type": "code",
   "execution_count": null,
   "metadata": {},
   "outputs": [
    {
     "name": "stdout",
     "output_type": "stream",
     "text": [
      "Tổng các chữ số của 123456 là 21\n"
     ]
    }
   ],
   "source": [
    "n = input(\"Nhập một số nguyên không âm: \")\n",
    "s = 0\n",
    "for d in n:\n",
    "    s = s + int(d)\n",
    "print(f\"Tổng các chữ số của {n} là {s}\")\n"
   ]
  },
  {
   "cell_type": "code",
   "execution_count": null,
   "metadata": {},
   "outputs": [
    {
     "name": "stdout",
     "output_type": "stream",
     "text": [
      "Các số chính phương từ 1 đến 100: 1 4 9 16 25 36 49 64 81 100 "
     ]
    }
   ],
   "source": [
    "n = 100\n",
    "print(f\"Các số chính phương từ 1 đến {n}: \", end=\"\")\n",
    "i = 1\n",
    "while i <= n:\n",
    "    d = int(i**0.5)\n",
    "    if d**2 == i:\n",
    "        print(i, end=\" \")\n",
    "    i = i + 1"
   ]
  },
  {
   "attachments": {},
   "cell_type": "markdown",
   "metadata": {},
   "source": [
    "**Bài tập 7.1(h)**"
   ]
  },
  {
   "cell_type": "code",
   "execution_count": 18,
   "metadata": {},
   "outputs": [
    {
     "name": "stdout",
     "output_type": "stream",
     "text": [
      "6\n"
     ]
    }
   ],
   "source": [
    "# TODO:\n",
    "n = int(input(\"Nhập một số nguyên: \"))\n",
    "sum = 0\n",
    "i = 1\n",
    "for i in range(1, n+1): \n",
    "  sum = sum + int(i)\n",
    "print(sum)"
   ]
  },
  {
   "attachments": {},
   "cell_type": "markdown",
   "metadata": {},
   "source": [
    "### Hàm"
   ]
  },
  {
   "cell_type": "code",
   "execution_count": null,
   "metadata": {},
   "outputs": [],
   "source": [
    "def mysqrt(x, N=100):\n",
    "    y = x\n",
    "    for _ in range(N):\n",
    "        y = y/2 + x/(2*y)\n",
    "    return y"
   ]
  },
  {
   "cell_type": "code",
   "execution_count": null,
   "metadata": {},
   "outputs": [
    {
     "name": "stdout",
     "output_type": "stream",
     "text": [
      "1.414213562373095 1.4142135623730951 1.4142135623730951\n"
     ]
    }
   ],
   "source": [
    "print(mysqrt(2), math.sqrt(2), 2**0.5)"
   ]
  },
  {
   "cell_type": "code",
   "execution_count": null,
   "metadata": {},
   "outputs": [
    {
     "name": "stdout",
     "output_type": "stream",
     "text": [
      "323.0844833048122\n",
      "100.00000025490743\n",
      "100.0\n"
     ]
    }
   ],
   "source": [
    "print(mysqrt(10000, 5))\n",
    "print(mysqrt(10000, 10))\n",
    "print(mysqrt(10000, 100))"
   ]
  },
  {
   "attachments": {},
   "cell_type": "markdown",
   "metadata": {},
   "source": [
    "**Bài tập 8.1(c)**"
   ]
  },
  {
   "cell_type": "code",
   "execution_count": 7,
   "metadata": {},
   "outputs": [
    {
     "name": "stdout",
     "output_type": "stream",
     "text": [
      "Happy birth day to Nhat\n",
      "Happy birth day to Nhat\n",
      "Happy birth, happy birth, happy birth day to Nhat\n"
     ]
    }
   ],
   "source": [
    "# TODO:\n",
    "import time\n",
    "\n",
    "def happyBirthday(ten = \"you\"):\n",
    "  print(f\"Happy birth day to {ten}\")\n",
    "  print(f\"Happy birth day to {ten}\")\n",
    "  print(f\"Happy birth, happy birth, happy birth day to {ten}\")\n",
    "  \n",
    "happyBirthday(\"Nhat\")"
   ]
  },
  {
   "cell_type": "code",
   "execution_count": null,
   "metadata": {},
   "outputs": [],
   "source": []
  }
 ],
 "metadata": {
  "kernelspec": {
   "display_name": "base",
   "language": "python",
   "name": "python3"
  },
  "language_info": {
   "codemirror_mode": {
    "name": "ipython",
    "version": 3
   },
   "file_extension": ".py",
   "mimetype": "text/x-python",
   "name": "python",
   "nbconvert_exporter": "python",
   "pygments_lexer": "ipython3",
   "version": "3.11.4"
  },
  "orig_nbformat": 4
 },
 "nbformat": 4,
 "nbformat_minor": 2
}
