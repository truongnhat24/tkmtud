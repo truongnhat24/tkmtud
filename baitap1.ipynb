{
 "cells": [
  {
   "attachments": {},
   "cell_type": "markdown",
   "metadata": {},
   "source": [
    "# Bài tập 1 - Ôn tập Python\n",
    "\n",
    "*(Thống kê máy tính và ứng dụng - ĐTTX Kì 2 2023-2024)*\n",
    "\n",
    "Tài liệu tham khảo: [Bí kíp luyện Python](https://github.com/vqhBook/python)"
   ]
  },
  {
   "cell_type": "markdown",
   "metadata": {},
   "source": [
    "MSSV: 22880112\n",
    "\n",
    "Họ và tên: Trương Nhất"
   ]
  },
  {
   "cell_type": "markdown",
   "metadata": {},
   "source": [
    "## Câu 1 (1 điểm)\n",
    "\n",
    "(Tham khảo: Bài 1-4)"
   ]
  },
  {
   "cell_type": "markdown",
   "metadata": {},
   "source": [
    "**Bài tập 3.8** *(0.5 điểm)*"
   ]
  },
  {
   "cell_type": "code",
   "execution_count": 33,
   "metadata": {},
   "outputs": [
    {
     "name": "stdout",
     "output_type": "stream",
     "text": [
      "1.000000000\n",
      "2.3328\n",
      "2.71960\n"
     ]
    }
   ],
   "source": [
    "from decimal import Decimal\n",
    "print( Decimal(\"0.125\")**3 * Decimal(\"8\")**3 )\n",
    "print( Decimal(\"0.6\")**5 / Decimal(\"0.2\")*6 )\n",
    "print( Decimal(\"-2.5\") * Decimal(\"0.38\") * Decimal(\"0.4\") - Decimal(\"0.123\") * Decimal(\"3.15\") * Decimal(\"-8\") )"
   ]
  },
  {
   "cell_type": "markdown",
   "metadata": {},
   "source": [
    "**Bài tập 4.7** *(0.5 điểm)*"
   ]
  },
  {
   "cell_type": "code",
   "execution_count": 34,
   "metadata": {},
   "outputs": [
    {
     "name": "stdout",
     "output_type": "stream",
     "text": [
      "Tong cac chu so cua 123 la: 6\n"
     ]
    }
   ],
   "source": [
    "num = input(\"Nhập số có không quá 3 chữ số: \")\n",
    "while not(0 < int(num) < 1000):\n",
    "    print(\"Số không hợp lệ, nhập lại: \")\n",
    "    num = input(\"Nhập số có không quá 3 chữ số: \")\n",
    "x = sum(int(i,base = 10) for i in num)\n",
    "\n",
    "print(f\"Tong cac chu so cua {num} la: {x}\")\n"
   ]
  },
  {
   "cell_type": "markdown",
   "metadata": {},
   "source": [
    "## Câu 2 (2.5 điểm)\n",
    "\n",
    "(Tham khảo: Bài 6-8)"
   ]
  },
  {
   "cell_type": "markdown",
   "metadata": {},
   "source": [
    "**Bài tập 6.6** *(1 điểm)*"
   ]
  },
  {
   "cell_type": "code",
   "execution_count": 35,
   "metadata": {},
   "outputs": [
    {
     "name": "stdout",
     "output_type": "stream",
     "text": [
      "123\n",
      "345\n",
      "789\n"
     ]
    }
   ],
   "source": [
    "a = int(input(\"Nhập số thứ nhất: \"))\n",
    "b = int(input(\"Nhập số thứ hai: \"))\n",
    "c = int(input(\"Nhập số thứ ba: \"))\n",
    "\n",
    "inputArray = [a,b,c]\n",
    "if a <= b and a <= c:\n",
    "  print(a)\n",
    "  if(b <= c):\n",
    "    print(b)\n",
    "    print(c)\n",
    "  else:\n",
    "    print(c)\n",
    "    print(b)\n",
    "elif b <= a and b <= c:\n",
    "  print(b)\n",
    "  if(a<=c):\n",
    "    print(a)\n",
    "    print(c)\n",
    "  else:\n",
    "    print(c)\n",
    "    print(a)\n",
    "else:\n",
    "  print(c)\n",
    "  if(b<=c):\n",
    "    print(b)\n",
    "    print(c)\n",
    "  else:\n",
    "    print(c)\n",
    "    print(b)"
   ]
  },
  {
   "cell_type": "markdown",
   "metadata": {},
   "source": [
    "**Bài tập 7.4** *(0.5 điểm)*"
   ]
  },
  {
   "cell_type": "code",
   "execution_count": 36,
   "metadata": {},
   "outputs": [
    {
     "name": "stdout",
     "output_type": "stream",
     "text": [
      "81\n"
     ]
    }
   ],
   "source": [
    "x = int(input(\"Nhập số thực x: \"))\n",
    "n = int(input(\"Nhập số nguyên không âm n: \"))\n",
    "while not(0 <= n):\n",
    "    print(\"Số không hợp lệ, nhập lại: \")\n",
    "    n = int(input(\"Nhập số nguyên không âm n: \"))\n",
    "m = x\n",
    "for i in range(0,n):\n",
    "  m = m**2\n",
    "print(m)"
   ]
  },
  {
   "cell_type": "markdown",
   "metadata": {},
   "source": [
    "**Bài tập 8.3** *(1 điểm)*"
   ]
  },
  {
   "cell_type": "code",
   "execution_count": 38,
   "metadata": {},
   "outputs": [
    {
     "name": "stdout",
     "output_type": "stream",
     "text": [
      "17 la so nguyen to\n"
     ]
    }
   ],
   "source": [
    "def SoNguyenTo(n):\n",
    "  if n <= 1 :\n",
    "    return False\n",
    "  elif n == 2 :\n",
    "    return True\n",
    "  else:\n",
    "    for i in range(3, n, 2):\n",
    "      if n % i == 0:\n",
    "        return False\n",
    "    return True  \n",
    "\n",
    "a = int(input(\"Nhap so can kiem tra nguyen to: \"))\n",
    "result = SoNguyenTo(a)\n",
    "if result :\n",
    "  print(f\"{a} la so nguyen to\")\n",
    "else:\n",
    "  print(f\"{a} khong la so nguyen to\")"
   ]
  },
  {
   "cell_type": "markdown",
   "metadata": {},
   "source": [
    "## Câu 3 (3 điểm)\n",
    "\n",
    "(Tham khảo: Bài 11)"
   ]
  },
  {
   "cell_type": "markdown",
   "metadata": {},
   "source": [
    "**Bài tập 11.5** *(2.5 điểm)*"
   ]
  },
  {
   "cell_type": "code",
   "execution_count": 40,
   "metadata": {},
   "outputs": [
    {
     "data": {
      "text/plain": [
       "[4, 2, 0, 2]"
      ]
     },
     "execution_count": 40,
     "metadata": {},
     "output_type": "execute_result"
    }
   ],
   "source": [
    "# a\n",
    "def dsKiTu(n):\n",
    "  return list(reversed([int(k) for k in str(n)]))\n",
    "\n",
    "dsKiTu(2024)"
   ]
  },
  {
   "cell_type": "code",
   "execution_count": 41,
   "metadata": {},
   "outputs": [
    {
     "name": "stdout",
     "output_type": "stream",
     "text": [
      "Số chữ số của 234324 là 6\n",
      "Tổng các chữ số của 234324 là 18\n"
     ]
    }
   ],
   "source": [
    "# b. \n",
    "# Đếm số chữ số:\n",
    "a = 234324\n",
    "print(f\"Số chữ số của {a} là {len(dsKiTu(a))}\")\n",
    "\n",
    "# Tính tổng các chữ số:\n",
    "print(f\"Tổng các chữ số của {a} là {sum(k for k in dsKiTu(a) )}\")"
   ]
  },
  {
   "cell_type": "code",
   "execution_count": 42,
   "metadata": {},
   "outputs": [
    {
     "name": "stdout",
     "output_type": "stream",
     "text": [
      "[4, 2, 0, 2]\n"
     ]
    },
    {
     "data": {
      "text/plain": [
       "2024"
      ]
     },
     "execution_count": 42,
     "metadata": {},
     "output_type": "execute_result"
    }
   ],
   "source": [
    "# c.\n",
    "def eval_polynomial_to_num(P, x):\n",
    "  s = 0\n",
    "  for k, a in enumerate(reversed(P)):\n",
    "      s += a * x**(len(P)-1-k)\n",
    "  return s\n",
    "\n",
    "a = dsKiTu(2024)\n",
    "print(a)\n",
    "eval_polynomial_to_num(a, 10)"
   ]
  },
  {
   "cell_type": "code",
   "execution_count": 44,
   "metadata": {},
   "outputs": [
    {
     "data": {
      "text/plain": [
       "5801"
      ]
     },
     "execution_count": 44,
     "metadata": {},
     "output_type": "execute_result"
    }
   ],
   "source": [
    "# d\n",
    "def sumFormatTwoNumber(a,b):\n",
    "  a_num = \"\".join(str(k) for k in reversed(dsKiTu(a)))\n",
    "  b_num = \"\".join(str(k) for k in reversed(dsKiTu(b)))\n",
    "  return int(a_num) + int(b_num)\n",
    "\n",
    "sumFormatTwoNumber(1234, 4567)"
   ]
  },
  {
   "cell_type": "markdown",
   "metadata": {},
   "source": [
    "**Bài tập** *(0.5 điểm)*\n",
    "\n",
    "Viết hàm `pretty_str` nhận vào một số nguyên không âm và trả về chuỗi biểu diễn số đó với dấu phẩy phân cách mỗi cụm 3 kí số. \n",
    "\n",
    "*Ví dụ:* `pretty_str(123567890)` trả về chuỗi `\"1,234,567,890\"`. \n",
    "\n",
    "(*Lưu ý*: có thể tận dụng các hàm đã viết ở trên.)"
   ]
  },
  {
   "cell_type": "code",
   "execution_count": 45,
   "metadata": {},
   "outputs": [
    {
     "data": {
      "text/plain": [
       "'1,234,567,890'"
      ]
     },
     "execution_count": 45,
     "metadata": {},
     "output_type": "execute_result"
    }
   ],
   "source": [
    "def pretty_str(n):\n",
    "  n_ds = dsKiTu(n)\n",
    "  time = 0\n",
    "  str_format = \"\"\n",
    "  for i in n_ds:\n",
    "    time += 1\n",
    "    str_format = str(i) + str_format\n",
    "    if time % 3 == 0 and not time == len(n_ds):\n",
    "      str_format = \",\" + str_format\n",
    "  return str_format\n",
    "\n",
    "pretty_str(1234567890)"
   ]
  },
  {
   "cell_type": "markdown",
   "metadata": {},
   "source": [
    "## Câu 4 (3.5 điểm)\n",
    "\n",
    "(Tham khảo: Bài 12)"
   ]
  },
  {
   "cell_type": "markdown",
   "metadata": {},
   "source": [
    "**Bài tập 12.6** (1 điểm)"
   ]
  },
  {
   "cell_type": "code",
   "execution_count": 46,
   "metadata": {},
   "outputs": [
    {
     "data": {
      "text/plain": [
       "10"
      ]
     },
     "execution_count": 46,
     "metadata": {},
     "output_type": "execute_result"
    }
   ],
   "source": [
    "def eval_expression(P, x):\n",
    "  for variable, value in x.items():\n",
    "    P = P.replace(variable, str(value))\n",
    "    \n",
    "  result = eval(P)\n",
    "  \n",
    "  return result\n",
    "eval_expression(\"(10 + x)*y\", {\"x\": 0, \"y\": 1})"
   ]
  },
  {
   "cell_type": "markdown",
   "metadata": {},
   "source": [
    "**Bài tập 12.10** *(2.5 điểm)*"
   ]
  },
  {
   "cell_type": "code",
   "execution_count": 47,
   "metadata": {},
   "outputs": [
    {
     "name": "stdout",
     "output_type": "stream",
     "text": [
      "Số lượng các giá trị khác nhau của biến: 2\n",
      "Các giá trị khác nhau của biến: {'Nam', 'Nữ'}\n",
      "Giá trị xuất hiện nhiều lần nhất: ('Nữ', 3)\n",
      "Các giá trị khác nhau cùng với tần số giảm dần: [('Nữ', 3), ('Nam', 1)]\n"
     ]
    }
   ],
   "source": [
    "# a. Số mức:\n",
    "def level_count_type(a):\n",
    "  return len(set(a))\n",
    "\n",
    "# b. Các mức:\n",
    "def level_type_list(a):\n",
    "  return set(a)\n",
    "\n",
    "# c. Yếu vị:\n",
    "def mode_list(a):\n",
    "  return max(((k, a.count(k)) for k in set(a)), key=lambda x: x[1])\n",
    "\n",
    "# d. Bảng tần số:\n",
    "def frequency_table(a):\n",
    "  return sorted((((k, a.count(k)) for k in set(a))), key=lambda x: x[1], reverse=True)\n",
    "\n",
    "a = ['Nam', 'Nữ', 'Nữ', 'Nữ']\n",
    "print(f\"Số lượng các giá trị khác nhau của biến: {level_count_type(a)}\")\n",
    "print(f\"Các giá trị khác nhau của biến: {level_type_list(a)}\")\n",
    "print(f\"Giá trị xuất hiện nhiều lần nhất: {mode_list(a)}\")\n",
    "print(f\"Các giá trị khác nhau cùng với tần số giảm dần: {frequency_table(a)}\")"
   ]
  }
 ],
 "metadata": {
  "kernelspec": {
   "display_name": "Python 3 (ipykernel)",
   "language": "python",
   "name": "python3"
  },
  "language_info": {
   "codemirror_mode": {
    "name": "ipython",
    "version": 3
   },
   "file_extension": ".py",
   "mimetype": "text/x-python",
   "name": "python",
   "nbconvert_exporter": "python",
   "pygments_lexer": "ipython3",
   "version": "3.11.4"
  },
  "vscode": {
   "interpreter": {
    "hash": "5179d32cf6ec497baf3f8a3ef987cc77c5d2dc691fdde20a56316522f61a7323"
   }
  }
 },
 "nbformat": 4,
 "nbformat_minor": 4
}
