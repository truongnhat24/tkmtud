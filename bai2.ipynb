{
 "cells": [
  {
   "attachments": {},
   "cell_type": "markdown",
   "metadata": {},
   "source": [
    "# Python (2)\n",
    "\n",
    "(Ôn tập các cấu trúc dữ liệu Python)"
   ]
  },
  {
   "attachments": {},
   "cell_type": "markdown",
   "metadata": {},
   "source": [
    "## Danh sách"
   ]
  },
  {
   "attachments": {},
   "cell_type": "markdown",
   "metadata": {},
   "source": [
    "**Danh sách** (`list`) là **cấu trúc dữ liệu** (data structure) cơ bản và quan trọng của Python.\n",
    "\n",
    "Danh sách là dãy các đối tượng có thứ tự."
   ]
  },
  {
   "cell_type": "code",
   "execution_count": 1,
   "metadata": {},
   "outputs": [
    {
     "name": "stdout",
     "output_type": "stream",
     "text": [
      "3.1622776601683795\n",
      "4.47213595499958\n",
      "5.477225575051661\n",
      "6.324555320336759\n",
      "7.0710678118654755\n"
     ]
    }
   ],
   "source": [
    "nums = [10, 20, 30, 40, 50]  # danh sách các số cần tính căn\n",
    "for i in nums:          # lệnh lặp for giúp duyệt qua các phần tử trong danh sách\n",
    "    print(i ** 0.5)"
   ]
  },
  {
   "cell_type": "code",
   "execution_count": 2,
   "metadata": {},
   "outputs": [
    {
     "name": "stdout",
     "output_type": "stream",
     "text": [
      "5\n",
      "10\n",
      "50\n",
      "[20, 30, 40]\n",
      "[10, 20, 30]\n",
      "[30, 40, 50]\n"
     ]
    }
   ],
   "source": [
    "print(len(nums))    # len trả về số lượng phần tử của danh sách (chiều dài danh sách)\n",
    "print(nums[0])      # truy cập phần tử trong danh sách bằng chỉ số (bắt đầu từ 0)\n",
    "print(nums[-1])     # phần tử cuối cùng của danh sách (-1 là phần tử cuối, -2 là kế cuối, ...)\n",
    "print(nums[1:4])    # trích danh sách con với slice\n",
    "print(nums[:3])     # 3 phần tử đầu\n",
    "print(nums[-3:])    # 3 phần tử cuối"
   ]
  },
  {
   "attachments": {},
   "cell_type": "markdown",
   "metadata": {},
   "source": [
    "Có thể thêm, xóa, sửa các phần tử của danh sách (danh sách là cấu trúc khả biến - mutable)."
   ]
  },
  {
   "cell_type": "code",
   "execution_count": 3,
   "metadata": {},
   "outputs": [
    {
     "name": "stdout",
     "output_type": "stream",
     "text": [
      "[10, 20, 30, 40, 50]\n",
      "[50, 20, 30, 40, 10]\n"
     ]
    }
   ],
   "source": [
    "print(nums)\n",
    "nums[0], nums[-1] = nums[-1], nums[0]\n",
    "print(nums)"
   ]
  },
  {
   "cell_type": "markdown",
   "metadata": {},
   "source": [
    "Có nhiều phương thức hỗ trợ các thao tác khác nhau trên danh sách."
   ]
  },
  {
   "cell_type": "code",
   "execution_count": 4,
   "metadata": {},
   "outputs": [
    {
     "name": "stdout",
     "output_type": "stream",
     "text": [
      "[50, 20, 30, 40, 10, 100]\n"
     ]
    }
   ],
   "source": [
    "nums.append(100)\n",
    "print(nums)"
   ]
  },
  {
   "cell_type": "markdown",
   "metadata": {},
   "source": [
    "Danh sách lồng (nested list)"
   ]
  },
  {
   "cell_type": "code",
   "execution_count": 5,
   "metadata": {},
   "outputs": [
    {
     "data": {
      "text/plain": [
       "[[1], [2, 2], [3, 3, 3], [4, 4, 4, 4], [5, 5, 5, 5, 5]]"
      ]
     },
     "execution_count": 5,
     "metadata": {},
     "output_type": "execute_result"
    }
   ],
   "source": [
    "a = []\n",
    "for i in range(1, 6):\n",
    "    a.append([i] * i)\n",
    "a"
   ]
  },
  {
   "cell_type": "markdown",
   "metadata": {},
   "source": [
    "Danh sách có thể được tạo ngắn gọn với bộ tạo danh sách (list comprehension)"
   ]
  },
  {
   "cell_type": "code",
   "execution_count": 6,
   "metadata": {},
   "outputs": [
    {
     "data": {
      "text/plain": [
       "[[1], [2, 2], [3, 3, 3], [4, 4, 4, 4], [5, 5, 5, 5, 5]]"
      ]
     },
     "execution_count": 6,
     "metadata": {},
     "output_type": "execute_result"
    }
   ],
   "source": [
    "a = [[i] * i for i in range(1, 6)]\n",
    "a"
   ]
  },
  {
   "attachments": {},
   "cell_type": "markdown",
   "metadata": {},
   "source": [
    "**Bài tập 11.5**"
   ]
  },
  {
   "cell_type": "code",
   "execution_count": 7,
   "metadata": {},
   "outputs": [],
   "source": [
    "# TODO:\n"
   ]
  },
  {
   "cell_type": "markdown",
   "metadata": {},
   "source": [
    "## Chuỗi\n",
    "\n",
    "**Chuỗi** (`string`) là danh sách các kí tự nhưng bất biến (immutable)."
   ]
  },
  {
   "cell_type": "code",
   "execution_count": 8,
   "metadata": {},
   "outputs": [
    {
     "name": "stdout",
     "output_type": "stream",
     "text": [
      "Hello World!\n",
      "<class 'str'>\n"
     ]
    }
   ],
   "source": [
    "s = \"Hello World!\"\n",
    "print(s)\n",
    "print(type(s))"
   ]
  },
  {
   "cell_type": "code",
   "execution_count": 9,
   "metadata": {},
   "outputs": [
    {
     "name": "stdout",
     "output_type": "stream",
     "text": [
      "['H', 'e', 'l', 'l', 'o', ' ', 'W', 'o', 'r', 'l', 'd', '!']\n",
      "<class 'list'>\n"
     ]
    }
   ],
   "source": [
    "a = list(s)\n",
    "print(a)\n",
    "print(type(a))"
   ]
  },
  {
   "cell_type": "code",
   "execution_count": 10,
   "metadata": {},
   "outputs": [
    {
     "name": "stdout",
     "output_type": "stream",
     "text": [
      "H e l l o   W o r l d ! "
     ]
    }
   ],
   "source": [
    "for c in s:\n",
    "    print(c, end=\" \")"
   ]
  },
  {
   "cell_type": "code",
   "execution_count": 11,
   "metadata": {},
   "outputs": [
    {
     "ename": "TypeError",
     "evalue": "'str' object does not support item assignment",
     "output_type": "error",
     "traceback": [
      "\u001b[1;31m---------------------------------------------------------------------------\u001b[0m",
      "\u001b[1;31mTypeError\u001b[0m                                 Traceback (most recent call last)",
      "Cell \u001b[1;32mIn[11], line 1\u001b[0m\n\u001b[1;32m----> 1\u001b[0m s[\u001b[39m0\u001b[39m] \u001b[39m=\u001b[39m \u001b[39m\"\u001b[39m\u001b[39mh\u001b[39m\u001b[39m\"\u001b[39m\n",
      "\u001b[1;31mTypeError\u001b[0m: 'str' object does not support item assignment"
     ]
    }
   ],
   "source": [
    "s[0] = \"h\"  # không thể thêm, xóa, sửa các kí tự trong chuỗi"
   ]
  },
  {
   "cell_type": "code",
   "execution_count": 12,
   "metadata": {},
   "outputs": [
    {
     "data": {
      "text/plain": [
       "'hello world!'"
      ]
     },
     "execution_count": 12,
     "metadata": {},
     "output_type": "execute_result"
    }
   ],
   "source": [
    "s.lower()"
   ]
  },
  {
   "attachments": {},
   "cell_type": "markdown",
   "metadata": {},
   "source": [
    "**Bài tập:** viết hàm đếm số kí tự space trong một chuỗi được cho."
   ]
  },
  {
   "cell_type": "code",
   "execution_count": 13,
   "metadata": {},
   "outputs": [],
   "source": [
    "# TODO:\n"
   ]
  },
  {
   "attachments": {},
   "cell_type": "markdown",
   "metadata": {},
   "source": [
    "## Bộ\n",
    "\n",
    "**Bộ** (`tuple`) là danh sách bất biến (immutable)."
   ]
  },
  {
   "cell_type": "code",
   "execution_count": 14,
   "metadata": {},
   "outputs": [
    {
     "name": "stdout",
     "output_type": "stream",
     "text": [
      "(1, 2)\n",
      "<class 'tuple'>\n",
      "1\n"
     ]
    }
   ],
   "source": [
    "a = 1,2\n",
    "\n",
    "print(a)\n",
    "print(type(a))\n",
    "print(a[0])"
   ]
  },
  {
   "cell_type": "code",
   "execution_count": 15,
   "metadata": {},
   "outputs": [
    {
     "ename": "TypeError",
     "evalue": "'tuple' object does not support item assignment",
     "output_type": "error",
     "traceback": [
      "\u001b[1;31m---------------------------------------------------------------------------\u001b[0m",
      "\u001b[1;31mTypeError\u001b[0m                                 Traceback (most recent call last)",
      "Cell \u001b[1;32mIn[15], line 1\u001b[0m\n\u001b[1;32m----> 1\u001b[0m a[\u001b[39m0\u001b[39m] \u001b[39m=\u001b[39m \u001b[39m-\u001b[39m\u001b[39m1\u001b[39m\n",
      "\u001b[1;31mTypeError\u001b[0m: 'tuple' object does not support item assignment"
     ]
    }
   ],
   "source": [
    "a[0] = -1   # không thể thêm, xóa, sửa các phần tử của bộ (tương tự như chuỗi)"
   ]
  },
  {
   "cell_type": "code",
   "execution_count": 16,
   "metadata": {},
   "outputs": [
    {
     "name": "stdout",
     "output_type": "stream",
     "text": [
      "Kí tự thứ 0 là H\n",
      "Kí tự thứ 1 là e\n",
      "Kí tự thứ 2 là l\n",
      "Kí tự thứ 3 là l\n",
      "Kí tự thứ 4 là o\n"
     ]
    }
   ],
   "source": [
    "for i, c in enumerate(\"Hello\"):\n",
    "    print(f\"Kí tự thứ {i} là {c}\")"
   ]
  },
  {
   "cell_type": "code",
   "execution_count": 17,
   "metadata": {},
   "outputs": [
    {
     "data": {
      "text/plain": [
       "[(0, 'H'), (1, 'e'), (2, 'l'), (3, 'l'), (4, 'o')]"
      ]
     },
     "execution_count": 17,
     "metadata": {},
     "output_type": "execute_result"
    }
   ],
   "source": [
    "list(enumerate(\"Hello\"))"
   ]
  },
  {
   "attachments": {},
   "cell_type": "markdown",
   "metadata": {},
   "source": [
    "**Bài tập 12.2**"
   ]
  },
  {
   "cell_type": "code",
   "execution_count": 18,
   "metadata": {},
   "outputs": [],
   "source": [
    "# TODO:\n"
   ]
  },
  {
   "attachments": {},
   "cell_type": "markdown",
   "metadata": {},
   "source": [
    "## Tập hợp\n",
    "\n",
    "**Tập hợp** (`set`) trong Python là cấu trúc dữ liệu cho tập hợp trong Toán, đó là bộ sưu tập các đối tượng không để ý đến thứ tự và số lần xuất hiện."
   ]
  },
  {
   "cell_type": "code",
   "execution_count": 19,
   "metadata": {},
   "outputs": [
    {
     "name": "stdout",
     "output_type": "stream",
     "text": [
      "{1, 3, 5}\n",
      "<class 'set'>\n"
     ]
    }
   ],
   "source": [
    "s = {5, 1, 3, 1}\n",
    "print(s)\n",
    "print(type(s))"
   ]
  },
  {
   "cell_type": "code",
   "execution_count": 20,
   "metadata": {},
   "outputs": [
    {
     "data": {
      "text/plain": [
       "{' ', '!', 'H', 'W', 'd', 'e', 'l', 'o', 'r'}"
      ]
     },
     "execution_count": 20,
     "metadata": {},
     "output_type": "execute_result"
    }
   ],
   "source": [
    "set(\"Hello World!\")"
   ]
  },
  {
   "cell_type": "markdown",
   "metadata": {},
   "source": [
    "Tập hợp là khả biến (như danh sách và khác với chuỗi, bộ)."
   ]
  },
  {
   "cell_type": "code",
   "execution_count": 21,
   "metadata": {},
   "outputs": [
    {
     "name": "stdout",
     "output_type": "stream",
     "text": [
      "{1, 3, 5}\n",
      "{1, 10, 3, 5}\n"
     ]
    }
   ],
   "source": [
    "print(s)\n",
    "s.add(1)\n",
    "s.add(10)\n",
    "print(s)"
   ]
  },
  {
   "cell_type": "code",
   "execution_count": 22,
   "metadata": {},
   "outputs": [
    {
     "data": {
      "text/plain": [
       "{'e', 'l', 'o'}"
      ]
     },
     "execution_count": 22,
     "metadata": {},
     "output_type": "execute_result"
    }
   ],
   "source": [
    "set(\"hello\") - set(\"hi\")"
   ]
  },
  {
   "cell_type": "code",
   "execution_count": 23,
   "metadata": {},
   "outputs": [
    {
     "data": {
      "text/plain": [
       "{'e', 'l', 'o'}"
      ]
     },
     "execution_count": 23,
     "metadata": {},
     "output_type": "execute_result"
    }
   ],
   "source": [
    "{x for x in \"hello\" if x not in \"hi\"}"
   ]
  },
  {
   "attachments": {},
   "cell_type": "markdown",
   "metadata": {},
   "source": [
    "**Bài tập:** viết hàm liệt kê các kí tự không phải là chữ cái (a-z, A-Z) trong một chuỗi được cho."
   ]
  },
  {
   "cell_type": "code",
   "execution_count": 24,
   "metadata": {},
   "outputs": [],
   "source": [
    "# TODO:\n"
   ]
  },
  {
   "attachments": {},
   "cell_type": "markdown",
   "metadata": {},
   "source": [
    "## Từ điển"
   ]
  },
  {
   "cell_type": "markdown",
   "metadata": {},
   "source": [
    "**Từ điển** (`dict`) là cấu trúc dữ liệu được dùng trong nhiều thao tác xử lý dữ liệu.\n",
    "\n",
    "Từ điển quản lý các đối tượng thông qua khóa: từ điển là tập các cặp khóa-đối tượng hay khóa-giá trị (key-value)."
   ]
  },
  {
   "cell_type": "code",
   "execution_count": 1,
   "metadata": {},
   "outputs": [
    {
     "name": "stdout",
     "output_type": "stream",
     "text": [
      "{'560000': 'Quảng Nam', '700000': 'TP. Hồ Chí Minh'}\n",
      "<class 'dict'>\n"
     ]
    }
   ],
   "source": [
    "postal_code = {\n",
    "    \"560000\": \"Quảng Nam\",\n",
    "    \"700000\": \"TP. Hồ Chí Minh\",\n",
    "}\n",
    "print(postal_code)\n",
    "print(type(postal_code))"
   ]
  },
  {
   "cell_type": "code",
   "execution_count": 26,
   "metadata": {},
   "outputs": [
    {
     "data": {
      "text/plain": [
       "'Quảng Nam'"
      ]
     },
     "execution_count": 26,
     "metadata": {},
     "output_type": "execute_result"
    }
   ],
   "source": [
    "postal_code[\"560000\"]   # truy cập value bằng key"
   ]
  },
  {
   "cell_type": "code",
   "execution_count": 3,
   "metadata": {},
   "outputs": [
    {
     "data": {
      "text/plain": [
       "True"
      ]
     },
     "execution_count": 3,
     "metadata": {},
     "output_type": "execute_result"
    }
   ],
   "source": [
    "\"560000\" in postal_code"
   ]
  },
  {
   "cell_type": "code",
   "execution_count": 28,
   "metadata": {},
   "outputs": [
    {
     "data": {
      "text/plain": [
       "False"
      ]
     },
     "execution_count": 28,
     "metadata": {},
     "output_type": "execute_result"
    }
   ],
   "source": [
    "560000 in postal_code"
   ]
  },
  {
   "cell_type": "code",
   "execution_count": 29,
   "metadata": {},
   "outputs": [
    {
     "data": {
      "text/plain": [
       "{'560000': 'Quảng Nam', '700000': 'TP. Hồ Chí Minh', '550000': 'Đà Nẵng'}"
      ]
     },
     "execution_count": 29,
     "metadata": {},
     "output_type": "execute_result"
    }
   ],
   "source": [
    "postal_code[\"550000\"] = \"Đà Nẵng\"\n",
    "postal_code"
   ]
  },
  {
   "cell_type": "code",
   "execution_count": 5,
   "metadata": {},
   "outputs": [
    {
     "name": "stdout",
     "output_type": "stream",
     "text": [
      "    ZIP | Thành phố       \n",
      "--------------------------\n",
      " 560000 | Quảng Nam       \n",
      " 700000 | TP. Hồ Chí Minh \n"
     ]
    }
   ],
   "source": [
    "print(f\"{'ZIP':>7} | {'Thành phố': <16}\")\n",
    "print(\"-\" * (7 + 16 + 3))\n",
    "for k in postal_code:\n",
    "    print(f\"{k:>7} | {postal_code[k]:<16}\")"
   ]
  },
  {
   "attachments": {},
   "cell_type": "markdown",
   "metadata": {},
   "source": [
    "**Bài tập 12.9**"
   ]
  },
  {
   "cell_type": "code",
   "execution_count": 11,
   "metadata": {},
   "outputs": [
    {
     "data": {
      "text/plain": [
       "1023"
      ]
     },
     "execution_count": 11,
     "metadata": {},
     "output_type": "execute_result"
    }
   ],
   "source": [
    "# TODO:\n",
    "def eval(P, x):\n",
    "  s = 0\n",
    "  for a in P:\n",
    "    s = s + P[a]*x**a\n",
    "  return s\n",
    "\n",
    "def eval2(P, x):\n",
    "  return sum(c * x**i for i, c in P.items())\n",
    "\n",
    "p = {0:-1, 10: 1}\n",
    "eval2(p, 2)"
   ]
  },
  {
   "cell_type": "markdown",
   "metadata": {},
   "source": [
    "## Các cấu trúc dữ liệu khác"
   ]
  },
  {
   "cell_type": "markdown",
   "metadata": {},
   "source": [
    "Python hỗ trợ nhiều cấu trúc dữ liệu khác trong module [`collections`](https://docs.python.org/3/library/collections.html). "
   ]
  },
  {
   "cell_type": "markdown",
   "metadata": {},
   "source": [
    "Chẳng hạn `Counter` là cấu trúc dữ liệu giúp đếm rất hiệu quả."
   ]
  },
  {
   "cell_type": "code",
   "execution_count": 16,
   "metadata": {},
   "outputs": [
    {
     "data": {
      "text/plain": [
       "Counter({'l': 3,\n",
       "         'o': 2,\n",
       "         'H': 1,\n",
       "         'e': 1,\n",
       "         ' ': 1,\n",
       "         'W': 1,\n",
       "         'r': 1,\n",
       "         'd': 1,\n",
       "         '!': 1})"
      ]
     },
     "execution_count": 16,
     "metadata": {},
     "output_type": "execute_result"
    }
   ],
   "source": [
    "from collections import Counter\n",
    "\n",
    "a = Counter(\"Hello World!\")\n",
    "a\n"
   ]
  },
  {
   "cell_type": "code",
   "execution_count": 28,
   "metadata": {},
   "outputs": [
    {
     "data": {
      "text/plain": [
       "[('!', 1),\n",
       " ('d', 1),\n",
       " ('r', 1),\n",
       " ('W', 1),\n",
       " (' ', 1),\n",
       " ('e', 1),\n",
       " ('H', 1),\n",
       " ('o', 2),\n",
       " ('l', 3)]"
      ]
     },
     "execution_count": 28,
     "metadata": {},
     "output_type": "execute_result"
    }
   ],
   "source": [
    "# a.most_common()[:2]\n",
    "a.most_common()[::-1][:9]"
   ]
  }
 ],
 "metadata": {
  "kernelspec": {
   "display_name": "base",
   "language": "python",
   "name": "python3"
  },
  "language_info": {
   "codemirror_mode": {
    "name": "ipython",
    "version": 3
   },
   "file_extension": ".py",
   "mimetype": "text/x-python",
   "name": "python",
   "nbconvert_exporter": "python",
   "pygments_lexer": "ipython3",
   "version": "3.11.4"
  },
  "orig_nbformat": 4
 },
 "nbformat": 4,
 "nbformat_minor": 2
}
