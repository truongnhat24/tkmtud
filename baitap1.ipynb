{
 "cells": [
  {
   "attachments": {},
   "cell_type": "markdown",
   "metadata": {},
   "source": [
    "# Bài tập 1 - Ôn tập Python\n",
    "\n",
    "*(Thống kê máy tính và ứng dụng - ĐTTX Kì 2 2023-2024)*\n",
    "\n",
    "Tài liệu tham khảo: [Bí kíp luyện Python](https://github.com/vqhBook/python)"
   ]
  },
  {
   "cell_type": "markdown",
   "metadata": {},
   "source": [
    "MSSV: 22880112\n",
    "\n",
    "Họ và tên: Trương Nhất"
   ]
  },
  {
   "cell_type": "markdown",
   "metadata": {},
   "source": [
    "## Câu 1 (1 điểm)\n",
    "\n",
    "(Tham khảo: Bài 1-4)"
   ]
  },
  {
   "cell_type": "markdown",
   "metadata": {},
   "source": [
    "**Bài tập 3.8** *(0.5 điểm)*"
   ]
  },
  {
   "cell_type": "code",
   "execution_count": 2,
   "metadata": {},
   "outputs": [
    {
     "name": "stdout",
     "output_type": "stream",
     "text": [
      "1.000000000\n",
      "2.3328\n",
      "2.71960\n"
     ]
    }
   ],
   "source": [
    "from decimal import Decimal\n",
    "print( Decimal(\"0.125\")**3 * Decimal(\"8\")**3 )\n",
    "print( Decimal(\"0.6\")**5 / Decimal(\"0.2\")*6 )\n",
    "print( Decimal(\"-2.5\") * Decimal(\"0.38\") * Decimal(\"0.4\") - Decimal(\"0.123\") * Decimal(\"3.15\") * Decimal(\"-8\") )"
   ]
  },
  {
   "cell_type": "markdown",
   "metadata": {},
   "source": [
    "**Bài tập 4.7** *(0.5 điểm)*"
   ]
  },
  {
   "cell_type": "code",
   "execution_count": 2,
   "metadata": {},
   "outputs": [
    {
     "name": "stdout",
     "output_type": "stream",
     "text": [
      "Tong cac chu so cua 122 la: 5\n"
     ]
    }
   ],
   "source": [
    "num = input(\"Nhập số có không quá 3 chữ số: \")\n",
    "while not(0 < int(num) < 1000):\n",
    "    print(\"Số không hợp lệ, nhập lại: \")\n",
    "    num = input(\"Nhập số có không quá 3 chữ số: \")\n",
    "x = sum(int(i,base = 10) for i in num)\n",
    "\n",
    "print(f\"Tong cac chu so cua {num} la: {x}\")\n"
   ]
  },
  {
   "cell_type": "markdown",
   "metadata": {},
   "source": [
    "## Câu 2 (2.5 điểm)\n",
    "\n",
    "(Tham khảo: Bài 6-8)"
   ]
  },
  {
   "cell_type": "markdown",
   "metadata": {},
   "source": [
    "**Bài tập 6.6** *(1 điểm)*"
   ]
  },
  {
   "cell_type": "code",
   "execution_count": 5,
   "metadata": {},
   "outputs": [
    {
     "name": "stdout",
     "output_type": "stream",
     "text": [
      "23\n",
      "54\n",
      "666\n"
     ]
    }
   ],
   "source": [
    "a = int(input(\"Nhập số thứ nhất: \"))\n",
    "b = int(input(\"Nhập số thứ hai: \"))\n",
    "c = int(input(\"Nhập số thứ ba: \"))\n",
    "\n",
    "inputArray = [a,b,c]\n",
    "if a <= b and a <= c:\n",
    "  print(a)\n",
    "  if(b <= c):\n",
    "    print(b)\n",
    "    print(c)\n",
    "  else:\n",
    "    print(c)\n",
    "    print(b)\n",
    "elif b <= a and b <= c:\n",
    "  print(b)\n",
    "  if(a<=c):\n",
    "    print(a)\n",
    "    print(c)\n",
    "  else:\n",
    "    print(c)\n",
    "    print(a)\n",
    "else:\n",
    "  print(c)\n",
    "  if(b<=c):\n",
    "    print(b)\n",
    "    print(c)\n",
    "  else:\n",
    "    print(c)\n",
    "    print(b)"
   ]
  },
  {
   "cell_type": "markdown",
   "metadata": {},
   "source": [
    "**Bài tập 7.4** *(0.5 điểm)*"
   ]
  },
  {
   "cell_type": "code",
   "execution_count": 9,
   "metadata": {},
   "outputs": [
    {
     "name": "stdout",
     "output_type": "stream",
     "text": [
      "Số không hợp lệ, nhập lại: \n",
      "6561\n"
     ]
    }
   ],
   "source": [
    "x = int(input(\"Nhập số thực x: \"))\n",
    "n = int(input(\"Nhập số nguyên không âm n: \"))\n",
    "while not(0 <= n):\n",
    "    print(\"Số không hợp lệ, nhập lại: \")\n",
    "    n = int(input(\"Nhập số nguyên không âm n: \"))\n",
    "m = x\n",
    "for i in range(0,n):\n",
    "  m = m**2\n",
    "print(m)"
   ]
  },
  {
   "cell_type": "markdown",
   "metadata": {},
   "source": [
    "**Bài tập 8.3** *(1 điểm)*"
   ]
  },
  {
   "cell_type": "code",
   "execution_count": 37,
   "metadata": {},
   "outputs": [
    {
     "name": "stdout",
     "output_type": "stream",
     "text": [
      "119 khong la so nguyen to\n"
     ]
    }
   ],
   "source": [
    "def SoNguyenTo(n):\n",
    "  if n <= 1 :\n",
    "    return False\n",
    "  elif n == 2 :\n",
    "    return True\n",
    "  else:\n",
    "    for i in range(3, n, 2):\n",
    "      if n % i == 0:\n",
    "        return False\n",
    "    return True  \n",
    "\n",
    "a = int(input(\"Nhap so can kiem tra nguyen to: \"))\n",
    "result = SoNguyenTo(a)\n",
    "if result :\n",
    "  print(f\"{a} la so nguyen to\")\n",
    "else:\n",
    "  print(f\"{a} khong la so nguyen to\")"
   ]
  },
  {
   "cell_type": "markdown",
   "metadata": {},
   "source": [
    "## Câu 3 (3 điểm)\n",
    "\n",
    "(Tham khảo: Bài 11)"
   ]
  },
  {
   "cell_type": "markdown",
   "metadata": {},
   "source": [
    "**Bài tập 11.5** *(2.5 điểm)*"
   ]
  },
  {
   "cell_type": "code",
   "execution_count": 10,
   "metadata": {},
   "outputs": [
    {
     "name": "stdout",
     "output_type": "stream",
     "text": [
      "[2, 1, 0, 9]\n"
     ]
    }
   ],
   "source": [
    "# a\n",
    "def dsKiTu(n):\n",
    "  num = n\n",
    "  ds = []\n",
    "  if num == 0:\n",
    "    ds.append(num)\n",
    "  else:\n",
    "    while num > 0:\n",
    "      ds.append(num%10)\n",
    "      num //= 10\n",
    "  print(ds)\n",
    "\n",
    "a = int(input(\"Nhập số nguyên không âm: \"))\n",
    "dsKiTu(a)\n",
    "\n",
    "# b\n"
   ]
  },
  {
   "cell_type": "markdown",
   "metadata": {},
   "source": [
    "**Bài tập** *(0.5 điểm)*\n",
    "\n",
    "Viết hàm `pretty_str` nhận vào một số nguyên không âm và trả về chuỗi biểu diễn số đó với dấu phẩy phân cách mỗi cụm 3 kí số. \n",
    "\n",
    "*Ví dụ:* `pretty_str(123567890)` trả về chuỗi `\"1,234,567,890\"`. \n",
    "\n",
    "(*Lưu ý*: có thể tận dụng các hàm đã viết ở trên.)"
   ]
  },
  {
   "cell_type": "code",
   "execution_count": null,
   "metadata": {},
   "outputs": [],
   "source": []
  },
  {
   "cell_type": "markdown",
   "metadata": {},
   "source": [
    "## Câu 4 (3.5 điểm)\n",
    "\n",
    "(Tham khảo: Bài 12)"
   ]
  },
  {
   "cell_type": "markdown",
   "metadata": {},
   "source": [
    "**Bài tập 12.6** (1 điểm)"
   ]
  },
  {
   "cell_type": "code",
   "execution_count": null,
   "metadata": {},
   "outputs": [],
   "source": []
  },
  {
   "cell_type": "markdown",
   "metadata": {},
   "source": [
    "**Bài tập 12.10** *(2.5 điểm)*"
   ]
  },
  {
   "cell_type": "code",
   "execution_count": null,
   "metadata": {},
   "outputs": [],
   "source": []
  }
 ],
 "metadata": {
  "kernelspec": {
   "display_name": "Python 3 (ipykernel)",
   "language": "python",
   "name": "python3"
  },
  "language_info": {
   "codemirror_mode": {
    "name": "ipython",
    "version": 3
   },
   "file_extension": ".py",
   "mimetype": "text/x-python",
   "name": "python",
   "nbconvert_exporter": "python",
   "pygments_lexer": "ipython3",
   "version": "3.11.4"
  },
  "vscode": {
   "interpreter": {
    "hash": "5179d32cf6ec497baf3f8a3ef987cc77c5d2dc691fdde20a56316522f61a7323"
   }
  }
 },
 "nbformat": 4,
 "nbformat_minor": 4
}
